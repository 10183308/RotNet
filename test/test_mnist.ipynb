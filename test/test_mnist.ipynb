{
 "cells": [
  {
   "cell_type": "code",
   "execution_count": null,
   "metadata": {
    "collapsed": false
   },
   "outputs": [],
   "source": [
    "%matplotlib inline\n",
    "%load_ext autoreload\n",
    "%autoreload 2\n",
    "\n",
    "from __future__ import print_function\n",
    "\n",
    "import os\n",
    "import sys\n",
    "import numpy as np\n",
    "import matplotlib.pyplot as plt\n",
    "\n",
    "from keras.applications.imagenet_utils import preprocess_input\n",
    "from keras.models import load_model\n",
    "from keras.datasets import mnist\n",
    "\n",
    "sys.path.append('..')\n",
    "from utils import display_examples, RotNetDataGenerator, angle_error, binarize_images"
   ]
  },
  {
   "cell_type": "markdown",
   "metadata": {},
   "source": [
    "## Load data"
   ]
  },
  {
   "cell_type": "code",
   "execution_count": null,
   "metadata": {
    "collapsed": false
   },
   "outputs": [],
   "source": [
    "(X_train, y_train), (X_test, y_test) = mnist.load_data()\n",
    "\n",
    "X_train = np.expand_dims(X_train, axis=3).astype('float32')\n",
    "X_test = np.expand_dims(X_test, axis=3).astype('float32')"
   ]
  },
  {
   "cell_type": "markdown",
   "metadata": {},
   "source": [
    "## Load model"
   ]
  },
  {
   "cell_type": "code",
   "execution_count": null,
   "metadata": {
    "collapsed": false
   },
   "outputs": [],
   "source": [
    "model_location = os.path.join('..', 'models', 'rotnet_mnist.hdf5')\n",
    "model = load_model(model_location, custom_objects={'angle_error': angle_error})"
   ]
  },
  {
   "cell_type": "markdown",
   "metadata": {},
   "source": [
    "## Evaluate model"
   ]
  },
  {
   "cell_type": "code",
   "execution_count": null,
   "metadata": {
    "collapsed": false
   },
   "outputs": [],
   "source": [
    "out = model.evaluate_generator(\n",
    "    RotNetDataGenerator(\n",
    "        X_test,\n",
    "        batch_size=128,\n",
    "        preprocess_func=binarize_images,\n",
    "        shuffle=True\n",
    "    ), \n",
    "    val_samples=len(y_test)\n",
    ")\n",
    "\n",
    "print('Test loss:', out[0])\n",
    "print('Test angle error:', out[1])"
   ]
  },
  {
   "cell_type": "markdown",
   "metadata": {},
   "source": [
    "## Display examples"
   ]
  },
  {
   "cell_type": "code",
   "execution_count": null,
   "metadata": {
    "collapsed": false
   },
   "outputs": [],
   "source": [
    "num_images = 5\n",
    "\n",
    "display_examples(\n",
    "    model, \n",
    "    X_test,\n",
    "    num_images=num_images,\n",
    "    preprocess_func=binarize_images,\n",
    "    save_path='/home/daniel/Dev/RotNet/mnist.jpg'\n",
    ")"
   ]
  }
 ],
 "metadata": {
  "anaconda-cloud": {},
  "kernelspec": {
   "display_name": "Python [conda root]",
   "language": "python",
   "name": "conda-root-py"
  },
  "language_info": {
   "codemirror_mode": {
    "name": "ipython",
    "version": 2
   },
   "file_extension": ".py",
   "mimetype": "text/x-python",
   "name": "python",
   "nbconvert_exporter": "python",
   "pygments_lexer": "ipython2",
   "version": "2.7.12"
  }
 },
 "nbformat": 4,
 "nbformat_minor": 1
}
